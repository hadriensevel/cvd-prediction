{
 "cells": [
  {
   "cell_type": "code",
   "execution_count": 1,
   "metadata": {
    "tags": []
   },
   "outputs": [],
   "source": [
    "import numpy as np\n",
    "from helpers import *\n",
    "from implementations import *\n",
    "np.random.seed(1)"
   ]
  },
  {
   "cell_type": "code",
   "execution_count": 2,
   "metadata": {},
   "outputs": [],
   "source": [
    "x_train, x_test, y_train, train_ids, test_ids = load_csv_data('data/dataset/')"
   ]
  },
  {
   "cell_type": "code",
   "execution_count": 3,
   "metadata": {},
   "outputs": [
    {
     "name": "stdout",
     "output_type": "stream",
     "text": [
      "x_train shape before cleaning is: (328135, 321)\n",
      "x_test shape before cleaning is: (109379, 321)\n",
      "y_train shape before cleaning is: (328135,)\n",
      "train_ids: (328135,)\n",
      "test_ids: (109379,)\n"
     ]
    }
   ],
   "source": [
    "#check that all the data loaded in\n",
    "print('x_train shape before cleaning is:', x_train.shape)\n",
    "print('x_test shape before cleaning is:',x_test.shape)\n",
    "print('y_train shape before cleaning is:',y_train.shape)\n",
    "\n",
    "print('train_ids:', train_ids.shape)\n",
    "print('test_ids:', test_ids.shape)\n"
   ]
  },
  {
   "cell_type": "code",
   "execution_count": 4,
   "metadata": {
    "tags": []
   },
   "outputs": [],
   "source": [
    "# do smart stuff: focus on the most important parameters\n",
    "# import pandas as pd\n",
    "\n",
    "# df_x_train = pd.read_csv(\"data/dataset/x_train.csv\")\n",
    "# # List of column names\n",
    "# column_names = ['_RFHYPE5',\n",
    "#                                         'TOLDHI2', \n",
    "#                                          '_CHOLCHK',\n",
    "#                                         '_BMI5',\n",
    "#                                          'SMOKE100',\n",
    "#                                          'CVDSTRK3', \n",
    "#                                         'DIABETE3',\n",
    "#                                          '_TOTINDA',\n",
    "#                                          '_FRTLT1', \n",
    "#                                         '_VEGLT1',\n",
    "#                                          '_RFDRHV5',\n",
    "#                                          'HLTHPLN1', \n",
    "#                                         'MEDCOST',\n",
    "#                                          'GENHLTH', \n",
    "#                                         'MENTHLTH', \n",
    "#                                         'PHYSHLTH', \n",
    "#                                         'DIFFWALK',\n",
    "#                                          'SEX', \n",
    "#                                         '_AGEG5YR', \n",
    "#                                         'EDUCA', \n",
    "#                                         'INCOME2' ]\n",
    "\n",
    "# # Get the indices of the specified column names\n",
    "# column_indices = [df_x_train.columns.get_loc(col) for col in column_names]\n",
    "\n",
    "# print(\"Indices of specified columns:\", column_indices)\n",
    "\n",
    "# output -> Indices of specified columns: [233, 39, 234, 254, 73, 40, 49, 285, 279, 280, 266, 31, 33, 27, 29, 28, 70, 51, 247, 53, 61]\n",
    "# so for the csv imported it needs to be that list minus because because the id column is loaded separately (train_ids)"
   ]
  },
  {
   "cell_type": "code",
   "execution_count": 5,
   "metadata": {
    "tags": []
   },
   "outputs": [],
   "source": [
    "# y_train = np.reshape(y_train, (328135, 1))\n",
    "# train_ids = np.reshape(train_ids, (328135, 1))\n",
    "# train_ids.shape"
   ]
  },
  {
   "cell_type": "code",
   "execution_count": 6,
   "metadata": {
    "tags": []
   },
   "outputs": [
    {
     "name": "stdout",
     "output_type": "stream",
     "text": [
      "The order is id: x : y\n",
      "(328135, 323)\n",
      "(109379, 322)\n"
     ]
    }
   ],
   "source": [
    "# before further cleaning the data it is better to conatecate them, this way we don't need to track what rows we delete\n",
    "# x_train shape before cleaning is: (328135, 321)\n",
    "# x_test shape before cleaning is: (109379, 321)\n",
    "# y_train shape before cleaning is: (328135,)\n",
    "# train_ids: (328135,)\n",
    "# test_ids: (109379,)\n",
    "\n",
    "\n",
    "# reshaping as preparation before concatenate\n",
    "y_train = np.reshape(y_train, (328135, 1))\n",
    "train_ids = np.reshape(train_ids, (328135, 1))\n",
    "test_ids = np.reshape(test_ids, (109379, 1))\n",
    "\n",
    "x_train_c = np.concatenate((train_ids, x_train, y_train), axis=1)\n",
    "x_test_c = np.concatenate((test_ids, x_test), axis=1)\n",
    "\n",
    "print('The order is id: x : y')\n",
    "print(x_train_c.shape)\n",
    "print(x_test_c.shape)\n",
    "\n",
    "# before training the data we should separate the arrays again"
   ]
  },
  {
   "cell_type": "markdown",
   "metadata": {},
   "source": [
    "## Cleaning data"
   ]
  },
  {
   "cell_type": "code",
   "execution_count": 38,
   "metadata": {},
   "outputs": [
    {
     "name": "stdout",
     "output_type": "stream",
     "text": [
      "[  0 233  39 234 254  73  40  49 285 279 280 266  31  33  27  29  28  70\n",
      "  51 247  53  61 322]\n",
      "[  0 233  39 234 254  73  40  49 285 279 280 266  31  33  27  29  28  70\n",
      "  51 247  53  61]\n",
      "[[ 0.    1.    2.    1.   20.78  1.    2.    3.    1.    2.    1.    1.\n",
      "   1.    2.    2.    5.    1.    2.    2.    8.    5.    8.   -1.  ]\n",
      " [ 1.    2.    2.    1.   28.7   1.    2.    3.    9.    9.    9.    9.\n",
      "   1.    2.    4.   88.   88.    2.    1.    8.    4.    7.   -1.  ]\n",
      " [ 2.    1.    1.    1.     nan  1.    2.    3.    1.    1.    1.    1.\n",
      "   1.    2.    2.   77.   77.    2.    2.   10.    6.   99.   -1.  ]\n",
      " [ 3.    1.    2.    2.   27.96  1.    2.    3.    1.    2.    1.    1.\n",
      "   1.    2.    1.   88.   88.    2.    2.   10.    4.   99.   -1.  ]\n",
      " [ 4.    1.    2.    1.   24.39  1.    2.    3.    1.    1.    1.    9.\n",
      "   1.    2.    2.   88.   88.    2.    1.   14.    9.   99.   -1.  ]\n",
      " [ 5.    2.    1.    1.   30.72  2.    2.    1.    2.    1.    2.    1.\n",
      "   1.    2.    3.    5.    2.    2.    1.    8.    4.   77.   -1.  ]\n",
      " [ 6.    2.    1.    1.   18.6   2.    2.    3.    1.    1.    1.    1.\n",
      "   1.    2.    4.   88.   88.    1.    2.   13.    6.    6.    1.  ]\n",
      " [ 7.    1.    2.    1.   22.6   2.    2.    3.    2.    9.    9.    1.\n",
      "   1.    2.    3.   88.   88.    2.    1.   13.    5.    5.    1.  ]\n",
      " [ 8.    2.    2.    1.   27.32  2.    2.    3.    1.    2.    1.    1.\n",
      "   1.    2.    2.   88.   88.    2.    2.    8.    6.    8.   -1.  ]\n",
      " [ 9.    2.    2.    1.   22.11  2.    2.    2.    2.    1.    1.    1.\n",
      "   1.    2.    2.   88.   88.    2.    2.    8.    4.   77.   -1.  ]]\n",
      "(328135, 23)\n",
      "(109379, 22)\n",
      "x_train_cl is: (257733, 23)\n",
      "x_test_cl is: (85873, 22)\n",
      "[[  0.   1.   2. ...   5.   8.  -1.]\n",
      " [  1.   2.   2. ...   4.   7.  -1.]\n",
      " [  3.   1.   2. ...   4.  99.  -1.]\n",
      " ...\n",
      " [109.   1.   2. ...   6.   6.  -1.]\n",
      " [110.   2.   1. ...   4.   3.  -1.]\n",
      " [111.   2.   2. ...   4.   5.  -1.]]\n"
     ]
    }
   ],
   "source": [
    "# focus only on the 21 most important as specified in https://medium.com/@alexteboul17/building-predictive-models-for-heart-disease-using-the-2015-behavioral-risk-factor-surveillance-b786368021ab\n",
    "\n",
    "focus_variables = np.array([233, 39, 234, 254, 73, 40, 49, 285, 279, 280, 266, 31, 33, 27, 29, 28, 70, 51, 247, 53, 61])\n",
    "\n",
    "focus_variables_train = np.concatenate((np.array([0]), focus_variables, np.array([322])), axis=0) # don't forget about stored id and y at the beginning and end\n",
    "focus_variables_test = np.concatenate((np.array([0]), focus_variables), axis=0) # don't forget about stored id at beginning\n",
    "\n",
    "print(focus_variables_train)\n",
    "print(focus_variables_test)\n",
    "\n",
    "x_train_sel = x_train_c[:, focus_variables_train]\n",
    "x_test_sel = x_test_c[:, focus_variables_test]\n",
    "\n",
    "print(x_train_sel[0:10, :]) # correct\n",
    "print(x_train_sel.shape)\n",
    "print(x_test_sel.shape)\n",
    "\n",
    "# remove nan values for train\n",
    "nan_rows_train = np.isnan(x_train_sel).any(axis=1)\n",
    "x_train_cl = x_train_sel[~nan_rows_train]\n",
    "\n",
    "# remove nan values for test\n",
    "nan_rows_test = np.isnan(x_test_sel).any(axis=1)\n",
    "x_test_cl = x_test_sel[~nan_rows_test]\n",
    "\n",
    "print('x_train_cl is:', x_train_cl.shape)\n",
    "print('x_test_cl is:',x_test_cl.shape)\n",
    "\n",
    "print(x_train_cl[0:100, :]) # correct\n",
    "\n",
    "\n"
   ]
  },
  {
   "cell_type": "markdown",
   "metadata": {},
   "source": [
    "## Further Cleaning -> Make it clinical\n",
    "\n",
    "For every category the data is made better. make it boolean or ordinal, remove large numbers like 88 that often indicates 0"
   ]
  },
  {
   "cell_type": "code",
   "execution_count": 39,
   "metadata": {
    "tags": []
   },
   "outputs": [
    {
     "name": "stdout",
     "output_type": "stream",
     "text": [
      "(257733, 23)\n"
     ]
    }
   ],
   "source": [
    "#1 _RFHYPE5 - High Blood pressure\n",
    "#Change 1 to 0 so it represetnts No high blood pressure and 2 to 1 so it represents high blood pressure\n",
    "column_index = 1  \n",
    "# Replace 1 with 0\n",
    "x_train_cl[x_train_cl[:, column_index] == 1, column_index] = 0\n",
    "\n",
    "# Replace 2 with 1\n",
    "x_train_cl[x_train_cl[:, column_index] == 2, column_index] = 1\n",
    "\n",
    "print(x_train_cl.shape)\n",
    "#print(x_train_cl[0:20, :]) # correct"
   ]
  },
  {
   "cell_type": "code",
   "execution_count": 40,
   "metadata": {
    "tags": []
   },
   "outputs": [
    {
     "name": "stdout",
     "output_type": "stream",
     "text": [
      "(255606, 23)\n"
     ]
    }
   ],
   "source": [
    "#2 TOLDHI2 - Ever Told Blood Cholesterol High\n",
    "# Change 2 to 0 because it is No\n",
    "# Remove all 7 (dont knows)\n",
    "# Remove all 9 (refused)\n",
    "\n",
    "column_index = 2 \n",
    "x_train_cl[x_train_cl[:, column_index] == 2, column_index] = 0\n",
    "\n",
    "# Remove all rows where 'TOLDHI2' is 7 (dont knows)\n",
    "x_train_cl = x_train_cl[x_train_cl[:, column_index] != 7]\n",
    "\n",
    "# Remove all rows where 'TOLDHI2' is 9 (refused)\n",
    "x_train_cl = x_train_cl[x_train_cl[:, column_index] != 9]\n",
    "print(x_train_cl.shape)"
   ]
  },
  {
   "cell_type": "code",
   "execution_count": 41,
   "metadata": {
    "tags": []
   },
   "outputs": [
    {
     "name": "stdout",
     "output_type": "stream",
     "text": [
      "(252297, 23)\n"
     ]
    }
   ],
   "source": [
    "#3 _CHOLCHK - How Long since Cholesterol Checked\n",
    "# I choose to say last year = yes thus 1. If not within last year I give zero\n",
    "# Change 4 to 0 ,3 to 0, and 2 to 0 for Not checked cholesterol in past 5 years\n",
    "# remove 7\n",
    "# Remove 9\n",
    "\n",
    "column_index = 3 \n",
    "\n",
    "x_train_cl[x_train_cl[:, column_index] == 4, column_index] = 0\n",
    "x_train_cl[x_train_cl[:, column_index] == 3, column_index] = 0\n",
    "x_train_cl[x_train_cl[:, column_index] == 2, column_index] = 0\n",
    "\n",
    "# Remove all rows where '_CHOLCHK' is 7 and 9\n",
    "x_train_cl = x_train_cl[x_train_cl[:, column_index] != 7]\n",
    "x_train_cl = x_train_cl[x_train_cl[:, column_index] != 9]\n",
    "print(x_train_cl.shape)"
   ]
  },
  {
   "cell_type": "code",
   "execution_count": 11,
   "metadata": {
    "tags": []
   },
   "outputs": [
    {
     "name": "stdout",
     "output_type": "stream",
     "text": [
      "(250810, 23)\n"
     ]
    }
   ],
   "source": [
    "#5 SMOKE100 - Smoked at Least 100 Cigarettes\n",
    "# Change 2 to 0 because it is No\n",
    "# Remove all 7 (dont knows)\n",
    "# Remove all 9 (refused)\n",
    "\n",
    "column_index = 5  # Replace with the actual index\n",
    "x_train_cl[x_train_cl[:, column_index] == 2, column_index] = 0\n",
    "\n",
    "# Remove all rows where 'SMOKE100' is 7\n",
    "x_train_cl = x_train_cl[x_train_cl[:, column_index] != 7]\n",
    "\n",
    "# Remove all rows where 'SMOKE100' is 9\n",
    "x_train_cl = x_train_cl[x_train_cl[:, column_index] != 9]\n",
    "print(x_train_cl.shape)"
   ]
  },
  {
   "cell_type": "code",
   "execution_count": 12,
   "metadata": {
    "tags": []
   },
   "outputs": [
    {
     "name": "stdout",
     "output_type": "stream",
     "text": [
      "(250252, 23)\n"
     ]
    }
   ],
   "source": [
    "#6 CVDSTRK3 - Ever Diagnosed with a Stroke\n",
    "# Change 2 to 0 because it is No\n",
    "# Remove all 7 (dont knows)\n",
    "# Remove all 9 (refused)\n",
    "\n",
    "column_index = 6  # Replace with the actual index\n",
    "x_train_cl[x_train_cl[:, column_index] == 2, column_index] = 0\n",
    "\n",
    "# Remove all rows where 'CVDSTRK3' is 7\n",
    "x_train_cl = x_train_cl[x_train_cl[:, column_index] != 7]\n",
    "\n",
    "# Remove all rows where 'CVDSTRK3' is 9\n",
    "x_train_cl = x_train_cl[x_train_cl[:, column_index] != 9]\n",
    "print(x_train_cl.shape)"
   ]
  },
  {
   "cell_type": "code",
   "execution_count": 13,
   "metadata": {
    "tags": []
   },
   "outputs": [
    {
     "name": "stdout",
     "output_type": "stream",
     "text": [
      "(249999, 23)\n"
     ]
    }
   ],
   "source": [
    "#7 DIABETE3 - Ever told) you have diabetes\n",
    "# going to make this ordinal. 0 is for no diabetes or only during pregnancy, 1 is for pre-diabetes or borderline diabetes, 2 is for yes diabetes\n",
    "# Remove all 7 (dont knows)\n",
    "# Remove all 9 (refused)\n",
    "column_index = 7  \n",
    "# Replace 2 and 3 with 0, 1 with 2, and 4 with 1\n",
    "x_train_cl[x_train_cl[:, column_index] == 1, column_index] = 2\n",
    "x_train_cl[x_train_cl[:, column_index] == 2, column_index] = 0\n",
    "x_train_cl[x_train_cl[:, column_index] == 3, column_index] = 0\n",
    "x_train_cl[x_train_cl[:, column_index] == 4, column_index] = 1\n",
    "\n",
    "# Remove all rows where 'DIABETE3' is 7\n",
    "x_train_cl = x_train_cl[x_train_cl[:, column_index] != 7]\n",
    "\n",
    "# Remove all rows where 'DIABETE3' is 9\n",
    "x_train_cl = x_train_cl[x_train_cl[:, column_index] != 9]\n",
    "print(x_train_cl.shape)"
   ]
  },
  {
   "cell_type": "code",
   "execution_count": 14,
   "metadata": {
    "tags": []
   },
   "outputs": [
    {
     "name": "stdout",
     "output_type": "stream",
     "text": [
      "(238445, 23)\n"
     ]
    }
   ],
   "source": [
    "#8 _TOTINDA - Leisure Time Physical Activity Calculated Variable\n",
    "# 1 for physical activity\n",
    "# change 2 to 0 for no physical activity\n",
    "# Remove all 9 (don't know/refused)\n",
    "\n",
    "column_index = 8 \n",
    "x_train_cl[x_train_cl[:, column_index] == 2, column_index] = 0\n",
    "\n",
    "# Remove all rows where '_TOTINDA' is 9\n",
    "x_train_cl = x_train_cl[x_train_cl[:, column_index] != 9]\n",
    "print(x_train_cl.shape)"
   ]
  },
  {
   "cell_type": "code",
   "execution_count": 15,
   "metadata": {
    "tags": []
   },
   "outputs": [
    {
     "name": "stdout",
     "output_type": "stream",
     "text": [
      "(232760, 23)\n"
     ]
    }
   ],
   "source": [
    "#9 _FRTLT1 - Consume Fruit 1 or more times per day\n",
    "# Change 2 to 0. this means no fruit consumed per day. 1 will mean consumed 1 or more pieces of fruit per day\n",
    "# remove all dont knows and missing 9\n",
    "\n",
    "column_index = 9  \n",
    "x_train_cl[x_train_cl[:, column_index] == 2, column_index] = 0\n",
    "\n",
    "# Remove all rows where '_FRTLT1' is 9\n",
    "x_train_cl = x_train_cl[x_train_cl[:, column_index] != 9]\n",
    "print(x_train_cl.shape)"
   ]
  },
  {
   "cell_type": "code",
   "execution_count": 16,
   "metadata": {
    "tags": []
   },
   "outputs": [
    {
     "name": "stdout",
     "output_type": "stream",
     "text": [
      "(227013, 23)\n"
     ]
    }
   ],
   "source": [
    "#10 _VEGLT1 - Consume Vegetables 1 or more times per day\n",
    "# Change 2 to 0. this means no vegetables consumed per day. 1 will mean consumed 1 or more pieces of vegetable per day\n",
    "# remove all dont knows and missing 9\n",
    "\n",
    "column_index = 10  # Replace with the actual index\n",
    "x_train_cl[x_train_cl[:, column_index] == 2, column_index] = 0\n",
    "\n",
    "# Remove all rows where '_VEGLT1' is 9\n",
    "x_train_cl = x_train_cl[x_train_cl[:, column_index] != 9]\n",
    "\n",
    "print(x_train_cl.shape)"
   ]
  },
  {
   "cell_type": "code",
   "execution_count": 17,
   "metadata": {
    "tags": []
   },
   "outputs": [
    {
     "name": "stdout",
     "output_type": "stream",
     "text": [
      "(224360, 23)\n"
     ]
    }
   ],
   "source": [
    "#11 _RFDRHV5 Heavy Alcohol Consumption Calculated Variable\n",
    "\n",
    "# Change 1 to 0 (1 was no for heavy drinking). change all 2 to 1 (2 was yes for heavy drinking)\n",
    "# remove all dont knows and missing 9\n",
    "column_index = 11\n",
    "\n",
    "x_train_cl[x_train_cl[:, column_index] == 1, column_index] = 0\n",
    "x_train_cl[x_train_cl[:, column_index] == 2, column_index] = 1\n",
    "\n",
    "# Remove all rows where '_RFDRHV5' is 9\n",
    "x_train_cl = x_train_cl[x_train_cl[:, column_index] != 9]\n",
    "\n",
    "print(x_train_cl.shape)"
   ]
  },
  {
   "cell_type": "code",
   "execution_count": 18,
   "metadata": {
    "tags": []
   },
   "outputs": [
    {
     "name": "stdout",
     "output_type": "stream",
     "text": [
      "(223977, 23)\n"
     ]
    }
   ],
   "source": [
    "#12 HLTHPLN1 - Have any health care coverage\n",
    "# 1 is yes, change 2 to 0 because it is No health care access\n",
    "# remove 7 and 9 for don't know or refused\n",
    "\n",
    "column_index = 12  # Replace with the actual index\n",
    "x_train_cl[x_train_cl[:, column_index] == 2, column_index] = 0\n",
    "\n",
    "# Remove all rows where 'HLTHPLN1' is 7\n",
    "x_train_cl = x_train_cl[x_train_cl[:, column_index] != 7]\n",
    "\n",
    "# Remove all rows where 'HLTHPLN1' is 9\n",
    "x_train_cl = x_train_cl[x_train_cl[:, column_index] != 9]\n",
    "print(x_train_cl.shape)"
   ]
  },
  {
   "cell_type": "code",
   "execution_count": 19,
   "metadata": {
    "tags": []
   },
   "outputs": [
    {
     "name": "stdout",
     "output_type": "stream",
     "text": [
      "(223658, 23)\n"
     ]
    }
   ],
   "source": [
    "#13 MEDCOST - Could Not See Doctor Because of Cost\n",
    "# Change 2 to 0 for no, 1 is already yes\n",
    "# remove 7 for don/t know and 9 for refused\n",
    "\n",
    "column_index = 13  # Replace with the actual index\n",
    "x_train_cl[x_train_cl[:, column_index] == 2, column_index] = 0\n",
    "\n",
    "# Remove all rows where 'MEDCOST' is 7\n",
    "x_train_cl = x_train_cl[x_train_cl[:, column_index] != 7]\n",
    "\n",
    "# Remove all rows where 'MEDCOST' is 9\n",
    "x_train_cl = x_train_cl[x_train_cl[:, column_index] != 9]\n",
    "print(x_train_cl.shape)"
   ]
  },
  {
   "cell_type": "code",
   "execution_count": 20,
   "metadata": {
    "tags": []
   },
   "outputs": [
    {
     "name": "stdout",
     "output_type": "stream",
     "text": [
      "(223264, 23)\n"
     ]
    }
   ],
   "source": [
    "#14 GENHLTH - General Health\n",
    "# This is an ordinal variable that I want to keep (1 is Excellent -> 5 is Poor)\n",
    "# Remove 7 and 9 for don't know and refused\n",
    "column_index = 14  # Replace with the actual index\n",
    "\n",
    "# Remove all rows where 'GENHLTH' is 7\n",
    "x_train_cl = x_train_cl[x_train_cl[:, column_index] != 7]\n",
    "\n",
    "# Remove all rows where 'GENHLTH' is 9\n",
    "x_train_cl = x_train_cl[x_train_cl[:, column_index] != 9]\n",
    "print(x_train_cl.shape)"
   ]
  },
  {
   "cell_type": "code",
   "execution_count": 21,
   "metadata": {
    "tags": []
   },
   "outputs": [
    {
     "name": "stdout",
     "output_type": "stream",
     "text": [
      "(220922, 23)\n"
     ]
    }
   ],
   "source": [
    "#15 MENTHLTH - Number of Days Mental Health Not Good\n",
    "# already in days so keep that, scale will be 0-30\n",
    "# change 88 to 0 because it means none (no bad mental health days)\n",
    "# remove 77 and 99 for don't know not sure and refused\n",
    "\n",
    "# Assuming the column index for 'MENTHLTH' is 16\n",
    "column_index = 15  # Replace with the actual index\n",
    "\n",
    "# Replace 88 with 0 in the 'MENTHLTH' column\n",
    "x_train_cl[x_train_cl[:, column_index] == 88, column_index] = 0\n",
    "\n",
    "# Remove all rows where 'MENTHLTH' is 77\n",
    "x_train_cl = x_train_cl[x_train_cl[:, column_index] != 77]\n",
    "\n",
    "# Remove all rows where 'MENTHLTH' is 99\n",
    "x_train_cl = x_train_cl[x_train_cl[:, column_index] != 99]\n",
    "print(x_train_cl.shape)"
   ]
  },
  {
   "cell_type": "code",
   "execution_count": 22,
   "metadata": {
    "tags": []
   },
   "outputs": [
    {
     "name": "stdout",
     "output_type": "stream",
     "text": [
      "(218148, 23)\n"
     ]
    }
   ],
   "source": [
    "#16 PHYSHLTH - PHYSHLTH\n",
    "# already in days so keep that, scale will be 0-30\n",
    "# change 88 to 0 because it means none (no bad mental health days)\n",
    "# remove 77 and 99 for don't know not sure and refused\n",
    "\n",
    "column_index = 16  # Replace with the actual index\n",
    "\n",
    "# Replace 88 with 0 in the 'PHYSHLTH' column\n",
    "x_train_cl[x_train_cl[:, column_index] == 88, column_index] = 0\n",
    "\n",
    "# Remove all rows where 'PHYSHLTH' is 77\n",
    "x_train_cl = x_train_cl[x_train_cl[:, column_index] != 77]\n",
    "\n",
    "# Remove all rows where 'PHYSHLTH' is 99\n",
    "x_train_cl = x_train_cl[x_train_cl[:, column_index] != 99]\n",
    "print(x_train_cl.shape)"
   ]
  },
  {
   "cell_type": "code",
   "execution_count": 23,
   "metadata": {
    "tags": []
   },
   "outputs": [
    {
     "name": "stdout",
     "output_type": "stream",
     "text": [
      "(217551, 23)\n"
     ]
    }
   ],
   "source": [
    "#17 DIFFWALK - Difficulty Walking or Climbing Stairs\n",
    "# change 2 to 0 for no. 1 is already yes\n",
    "# remove 7 and 9 for don't know not sure and refused\n",
    "\n",
    "column_index = 17  # Replace with the actual index\n",
    "\n",
    "# Replace 2 with 0 in the 'DIFFWALK' column\n",
    "x_train_cl[x_train_cl[:, column_index] == 2, column_index] = 0\n",
    "\n",
    "# Remove all rows where 'DIFFWALK' is 7\n",
    "x_train_cl = x_train_cl[x_train_cl[:, column_index] != 7]\n",
    "\n",
    "# Remove all rows where 'DIFFWALK' is 9\n",
    "x_train_cl = x_train_cl[x_train_cl[:, column_index] != 9]\n",
    "\n",
    "print(x_train_cl.shape)"
   ]
  },
  {
   "cell_type": "code",
   "execution_count": 24,
   "metadata": {
    "tags": []
   },
   "outputs": [
    {
     "name": "stdout",
     "output_type": "stream",
     "text": [
      "(217551, 23)\n"
     ]
    }
   ],
   "source": [
    "#18 SEX - Respondents Sex\n",
    "# in other words - is respondent male (somewhat arbitrarily chose this change because men are at higher risk for heart disease)\n",
    "# change 2 to 0 (female as 0). Male is 1\n",
    "column_index = 18  # Replace with the actual index\n",
    "\n",
    "# Replace 2 with 0 in the 'SEX' column\n",
    "x_train_cl[x_train_cl[:, column_index] == 2, column_index] = 0\n",
    "\n",
    "print(x_train_cl.shape)"
   ]
  },
  {
   "cell_type": "code",
   "execution_count": 25,
   "metadata": {
    "tags": []
   },
   "outputs": [
    {
     "name": "stdout",
     "output_type": "stream",
     "text": [
      "(216447, 23)\n"
     ]
    }
   ],
   "source": [
    "#19 _AGEG5YR - Reported age in five-year age categories calculated variable\n",
    "# already ordinal. 1 is 18-24 all the way up to 13 wis 80 and older. 5 year increments.\n",
    "# remove 14 because it is don't know or missing\n",
    "column_index = 19  # Replace with the actual index\n",
    "\n",
    "# Remove all rows where '_AGEG5YR' is 14\n",
    "x_train_cl = x_train_cl[x_train_cl[:, column_index] != 14]\n",
    "print(x_train_cl.shape)"
   ]
  },
  {
   "cell_type": "code",
   "execution_count": 26,
   "metadata": {
    "tags": []
   },
   "outputs": [
    {
     "name": "stdout",
     "output_type": "stream",
     "text": [
      "(216195, 23)\n"
     ]
    }
   ],
   "source": [
    "#20 EDUCA - Education Level\n",
    "# This is already an ordinal variable with 1 being never attended school or kindergarten only up to 6 being college 4 years or more\n",
    "# Scale here is 1-6\n",
    "# Remove 9 for refused:\n",
    "\n",
    "column_index = 20  # Replace with the actual index\n",
    "\n",
    "# Remove all rows where 'EDUCA' is 9\n",
    "x_train_cl = x_train_cl[x_train_cl[:, column_index] != 9]\n",
    "\n",
    "print(x_train_cl.shape)"
   ]
  },
  {
   "cell_type": "code",
   "execution_count": 27,
   "metadata": {
    "tags": []
   },
   "outputs": [
    {
     "name": "stdout",
     "output_type": "stream",
     "text": [
      "(190560, 23)\n"
     ]
    }
   ],
   "source": [
    "#21 INCOME2  - Income Level\n",
    "# Variable is already ordinal with 1 being less than $10,000 all the way up to 8 being $75,000 or more\n",
    "# Remove 77 and 99 for don't know and refused\n",
    "\n",
    "column_index = 21 # Replace with the actual index\n",
    "\n",
    "# Remove all rows where 'INCOME2' is 77 or 99\n",
    "x_train_cl = x_train_cl[(x_train_cl[:, column_index] != 77) & (x_train_cl[:, column_index] != 99)]\n",
    "\n",
    "\n",
    "\n",
    "print(x_train_cl.shape)"
   ]
  },
  {
   "cell_type": "code",
   "execution_count": 28,
   "metadata": {},
   "outputs": [],
   "source": [
    "# He said we should also look into race in the article. This we can do next time because it takes some ordering from the beginning."
   ]
  },
  {
   "cell_type": "markdown",
   "metadata": {},
   "source": [
    "!!!!!! Warning: x_test_cl needs to be cleaned further like x_train_cl !!!!!!!!"
   ]
  },
  {
   "cell_type": "markdown",
   "metadata": {},
   "source": [
    "# Train"
   ]
  },
  {
   "cell_type": "code",
   "execution_count": 37,
   "metadata": {},
   "outputs": [
    {
     "name": "stdout",
     "output_type": "stream",
     "text": [
      "checking shapes:\n",
      "tx is: (190560, 21)\n",
      "y is: (190560,)\n",
      "w is: (21,)\n",
      "The loss we find is: -79.561393574746\n"
     ]
    }
   ],
   "source": [
    "# Train our model\n",
    "# (y, tx, initial_w, max_iters, gamma)\n",
    "# I have to take the array apart again: the first column is id, the last column is the y\n",
    "tx = x_train_cl[:, 1:-1]\n",
    "y = x_train_cl[:, -1]\n",
    "#initial_w = np.random.randn(tx.shape[1])*0.01\n",
    "initial_w = np.zeros(tx.shape[1])\n",
    "\n",
    "print('checking shapes:')\n",
    "print('tx is:', tx.shape)\n",
    "print('y is:', y.shape)\n",
    "print('w is:', initial_w.shape)\n",
    "max_iters = 25\n",
    "gamma = 0.005\n",
    "\n",
    "w, loss = logistic_regression(y, tx, initial_w, max_iters, gamma)\n",
    "print('The loss we find is:', loss)"
   ]
  },
  {
   "cell_type": "markdown",
   "metadata": {},
   "source": [
    "!!!!!! Warning: x_test_cl needs to be cleaned further like x_train_cl !!!!!!!! "
   ]
  },
  {
   "cell_type": "code",
   "execution_count": 30,
   "metadata": {},
   "outputs": [],
   "source": [
    "# Function to predict the labels for the test data\n",
    "def predict_labels(w, data):\n",
    "    y_pred = sigmoid(np.dot(data, w))\n",
    "    y_pred[np.where(y_pred <= 0.5)] = -1\n",
    "    y_pred[np.where(y_pred > 0.5)] = 1\n",
    "    return y_pred"
   ]
  },
  {
   "cell_type": "code",
   "execution_count": 31,
   "metadata": {
    "tags": []
   },
   "outputs": [
    {
     "name": "stdout",
     "output_type": "stream",
     "text": [
      "(85873, 21)\n"
     ]
    }
   ],
   "source": [
    "x_test_sub = x_test_cl[:, 1:]\n",
    "print(x_test_sub.shape)"
   ]
  },
  {
   "cell_type": "code",
   "execution_count": 32,
   "metadata": {
    "tags": []
   },
   "outputs": [
    {
     "name": "stdout",
     "output_type": "stream",
     "text": [
      "x_test_sub shape is: (85873, 21)\n"
     ]
    }
   ],
   "source": [
    "# Generate predictions and save ouput in csv format for submission:\n",
    "OUTPUT_PATH = 'data/submission.csv'\n",
    "\n",
    "x_test_sub = x_test_cl[:, 1:]\n",
    "print('x_test_sub shape is:', x_test_sub.shape)\n",
    "y_pred = predict_labels(w, x_test_sub)\n",
    "create_csv_submission(x_test_cl[:, 0], y_pred, OUTPUT_PATH)"
   ]
  }
 ],
 "metadata": {
  "kernelspec": {
   "display_name": "Python 3 (ipykernel)",
   "language": "python",
   "name": "python3"
  },
  "language_info": {
   "codemirror_mode": {
    "name": "ipython",
    "version": 3
   },
   "file_extension": ".py",
   "mimetype": "text/x-python",
   "name": "python",
   "nbconvert_exporter": "python",
   "pygments_lexer": "ipython3",
   "version": "3.10.9"
  }
 },
 "nbformat": 4,
 "nbformat_minor": 4
}
