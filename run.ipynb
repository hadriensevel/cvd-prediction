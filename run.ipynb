{
 "cells": [
  {
   "cell_type": "code",
   "execution_count": 1,
   "metadata": {},
   "outputs": [],
   "source": [
    "import numpy as np\n",
    "from helpers import *\n",
    "from implementations import *"
   ]
  },
  {
   "cell_type": "code",
   "execution_count": 3,
   "metadata": {},
   "outputs": [],
   "source": [
    "x_train, x_test, y_train, train_ids, test_ids = load_csv_data('data/dataset/')"
   ]
  },
  {
   "cell_type": "code",
   "execution_count": 7,
   "metadata": {},
   "outputs": [
    {
     "name": "stdout",
     "output_type": "stream",
     "text": [
      "same columns removed\n"
     ]
    }
   ],
   "source": [
    "NAN_PERCENTAGE = 0.5\n",
    "\n",
    "# Prepare train data\n",
    "x_train, ind_rem_col_nan_train = removing_nan_columns(x_train, NAN_PERCENTAGE)\n",
    "x_train = nan_to_mean(x_train)\n",
    "x_train, ind_rem_col_std_train  = standardization(x_train)\n",
    "\n",
    "# Prepare test data \n",
    "x_test, ind_rem_col_nan_test = removing_nan_columns(x_test, NAN_PERCENTAGE)\n",
    "x_test = nan_to_mean(x_test)\n",
    "x_test, ind_rem_col_std_test = standardization(x_test)\n",
    "\n",
    "# Check that the same columns have been removed\n",
    "same_nan= np.array_equal(ind_rem_col_nan_train, ind_rem_col_nan_test)\n",
    "same_std= np.array_equal(ind_rem_col_std_train, ind_rem_col_std_test)\n",
    "if same_nan and same_std:\n",
    "    print(\"Same columns removed\")\n",
    "else:\n",
    "    print(\"Different columns removed\")"
   ]
  },
  {
   "cell_type": "code",
   "execution_count": 8,
   "metadata": {},
   "outputs": [
    {
     "name": "stdout",
     "output_type": "stream",
     "text": [
      "0.5910708564772659\n"
     ]
    }
   ],
   "source": [
    "# Train our model\n",
    "NBR_ITER = 2500\n",
    "GAMMA = 0.1\n",
    "\n",
    "w, loss = logistic_regression(y_train, x_train, np.zeros(x_train.shape[1]), NBR_ITER, GAMMA)\n",
    "print(loss)"
   ]
  },
  {
   "cell_type": "code",
   "execution_count": 9,
   "metadata": {},
   "outputs": [],
   "source": [
    "# Function to predict the labels for the test data\n",
    "def predict_labels(w, data):\n",
    "    y_pred = sigmoid(np.dot(data, w))\n",
    "    y_pred[np.where(y_pred <= 0.5)] = -1\n",
    "    y_pred[np.where(y_pred > 0.5)] = 1\n",
    "    return y_pred"
   ]
  },
  {
   "cell_type": "code",
   "execution_count": 10,
   "metadata": {},
   "outputs": [],
   "source": [
    "# Generate predictions and save ouput in csv format for submission:\n",
    "OUTPUT_PATH = 'data/submission.csv'\n",
    "\n",
    "y_pred = predict_labels(w, x_test)\n",
    "create_csv_submission(test_ids, y_pred, OUTPUT_PATH)"
   ]
  }
 ],
 "metadata": {
  "kernelspec": {
   "display_name": "Python 3 (ipykernel)",
   "language": "python",
   "name": "python3"
  },
  "language_info": {
   "codemirror_mode": {
    "name": "ipython",
    "version": 3
   },
   "file_extension": ".py",
   "mimetype": "text/x-python",
   "name": "python",
   "nbconvert_exporter": "python",
   "pygments_lexer": "ipython3",
   "version": "3.9.18"
  }
 },
 "nbformat": 4,
 "nbformat_minor": 2
}
