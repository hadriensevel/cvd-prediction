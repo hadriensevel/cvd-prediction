{
 "cells": [
  {
   "cell_type": "code",
   "execution_count": 23,
   "metadata": {},
   "outputs": [],
   "source": [
    "import numpy as np\n",
    "from helpers import *\n",
    "from implementations import *\n",
    "import matplotlib.pyplot as plt"
   ]
  },
  {
   "cell_type": "code",
   "execution_count": 24,
   "metadata": {},
   "outputs": [],
   "source": [
    "x_train, x_test, y_train, train_ids, test_ids = load_csv_data('data/dataset/')"
   ]
  },
  {
   "cell_type": "code",
   "execution_count": 25,
   "metadata": {},
   "outputs": [],
   "source": [
    "NAN_PERCENTAGE = 0.2\n",
    "\n",
    "# Find columns with more than NAN_PERCENTAGE missing values in x_train\n",
    "nan_cols_train = np.where(np.sum(np.isnan(x_train), axis=0) > NAN_PERCENTAGE * x_train.shape[0])[0]\n",
    "\n",
    "# Remove those columns from both x_train and x_test\n",
    "x_train = np.delete(x_train, nan_cols_train, axis=1)\n",
    "x_test = np.delete(x_test, nan_cols_train, axis=1)\n",
    "\n",
    "# Find the columns where the values are all the same\n",
    "same_cols_train = np.where(np.all(x_train == x_train[0,:], axis=0))[0]\n",
    "\n",
    "# Remove those columns from both x_train and x_test\n",
    "x_train = np.delete(x_train, same_cols_train, axis=1)\n",
    "x_test = np.delete(x_test, same_cols_train, axis=1)\n",
    "\n",
    "# Replace NaN values with column means\n",
    "col_means = np.nanmean(x_train, axis=0)\n",
    "train_nans = np.isnan(x_train)\n",
    "x_train[train_nans] = np.take(col_means, np.where(train_nans)[1])\n",
    "test_nans = np.isnan(x_test)\n",
    "x_test[test_nans] = np.take(col_means, np.where(test_nans)[1])\n",
    "\n",
    "# Get the mean and standard deviation of each column in x_train\n",
    "means = np.mean(x_train, axis=0)\n",
    "stds = np.std(x_train, axis=0)\n",
    "\n",
    "# If a column has a standard deviation of 0, remove it from x_train, x_test and the means and stds arrays\n",
    "zero_std_cols = np.where(stds == 0)[0]\n",
    "x_train = np.delete(x_train, zero_std_cols, axis=1)\n",
    "x_test = np.delete(x_test, zero_std_cols, axis=1)\n",
    "means = np.delete(means, zero_std_cols)\n",
    "stds = np.delete(stds, zero_std_cols)\n",
    "\n",
    "# Standardize x_train and x_test\n",
    "x_train = (x_train - means) / stds\n",
    "x_test = (x_test - means) / stds\n",
    "\n",
    "# Convert y_train to 0 and 1\n",
    "y_train[y_train == -1] = 0"
   ]
  },
  {
   "cell_type": "code",
   "execution_count": 26,
   "metadata": {},
   "outputs": [
    {
     "name": "stdout",
     "output_type": "stream",
     "text": [
      "(328135, 143)\n",
      "(109379, 143)\n"
     ]
    }
   ],
   "source": [
    "print(x_train.shape)\n",
    "print(x_test.shape)"
   ]
  },
  {
   "cell_type": "code",
   "execution_count": 27,
   "metadata": {},
   "outputs": [
    {
     "name": "stderr",
     "output_type": "stream",
     "text": [
      "/Users/hadriensevel/Library/Mobile Documents/com~apple~CloudDocs/EPFL/Master/Machine Learning/ml-project-1-the-overfitters/implementations.py:291: RuntimeWarning: divide by zero encountered in log\n",
      "  -np.sum(y * np.log(sigmoid(tx @ w)) + (1 - y) * np.log(1 - sigmoid(tx @ w)))\n",
      "/Users/hadriensevel/Library/Mobile Documents/com~apple~CloudDocs/EPFL/Master/Machine Learning/ml-project-1-the-overfitters/implementations.py:291: RuntimeWarning: invalid value encountered in multiply\n",
      "  -np.sum(y * np.log(sigmoid(tx @ w)) + (1 - y) * np.log(1 - sigmoid(tx @ w)))\n"
     ]
    },
    {
     "name": "stdout",
     "output_type": "stream",
     "text": [
      "gamma =  0.3262874457611131\n",
      "lambda =  0\n",
      "loss =  0.6697248360979814\n",
      "Best gamma =  0.3262874457611131\n",
      "Best lambda =  0\n",
      "Best loss =  0.6697248360979814\n"
     ]
    },
    {
     "data": {
      "image/png": "[encoded data removed]",
      "text/plain": [
       "<Figure size 640x480 with 1 Axes>"
      ]
     },
     "metadata": {},
     "output_type": "display_data"
    }
   ],
   "source": [
    "# Train our model\n",
    "NBR_ITER = 500\n",
    "\n",
    "# Try different values for gamma and lambda\n",
    "gammas = [4]\n",
    "lambdas = [0]\n",
    "\n",
    "best_gamma = None\n",
    "best_lambda = None\n",
    "best_loss = np.inf\n",
    "best_w = np.ones(x_train.shape[1])\n",
    "initial_w = 1e-5 * np.ones(x_train.shape[1])\n",
    "losses = []\n",
    "\n",
    "for gamma in gammas:\n",
    "    for lambda_ in lambdas:\n",
    "\n",
    "        w = initial_w\n",
    "\n",
    "        for _ in range(NBR_ITER):\n",
    "            gamma*=0.995\n",
    "            # compute gradient\n",
    "            grad = compute_gradient_neg_log(y_train, x_train, w) + 2 * lambda_ * w\n",
    "            # update w by gradient\n",
    "            w = w - gamma * grad\n",
    "            # compute loss\n",
    "            loss = compute_loss_neg_log(y_train, x_train, w) + lambda_ * np.linalg.norm(w) ** 2\n",
    "            losses.append(loss)\n",
    "\n",
    "    \n",
    "        if loss < best_loss:\n",
    "            best_loss = loss\n",
    "            best_gamma = gamma\n",
    "            best_lambda = lambda_\n",
    "            best_w = w\n",
    "\n",
    "        print(\"gamma = \", gamma)\n",
    "        print(\"lambda = \", lambda_)\n",
    "        print(\"loss = \", loss)\n",
    "\n",
    "        # Plot the loss\n",
    "        plt.plot(losses)\n",
    "\n",
    "print(\"Best gamma = \", best_gamma)\n",
    "print(\"Best lambda = \", best_lambda)\n",
    "print(\"Best loss = \", best_loss)\n",
    "\n",
    "#GAMMA =  0.3\n",
    "#loss =  0.5887492781783168"
   ]
  },
  {
   "cell_type": "code",
   "execution_count": 21,
   "metadata": {},
   "outputs": [
    {
     "data": {
      "text/plain": [
       "array([ 3.62420006e-03,  2.29982526e-02, -2.33414727e-02,  1.57606509e-03,\n",
       "       -1.35018921e-03, -1.31424061e-02,  6.82499099e-03, -1.24142867e-03,\n",
       "       -1.24142867e-03,  1.25953864e-01, -2.16737627e-02, -2.27166448e-03,\n",
       "       -1.27213717e-02,  8.74039103e-03, -5.39524790e-03, -3.24706421e-03,\n",
       "       -5.60392312e-02, -3.45160811e-02, -2.27822618e-02, -7.20003717e-02,\n",
       "       -7.35059326e-02, -2.35461942e-05, -1.26699023e-02,  2.04085466e-04,\n",
       "       -4.01171347e-02,  2.88428221e-03, -3.90500018e-03, -3.08229211e-02,\n",
       "       -6.85013378e-02, -1.03709874e-01, -2.04801313e-02, -4.68754128e-03,\n",
       "        8.46537857e-03, -3.10072990e-02,  3.56122151e-02, -2.70828625e-03,\n",
       "        1.12549034e-02,  2.09912347e-02, -7.94529673e-03,  6.03108461e-03,\n",
       "       -1.24723979e-02, -3.53994332e-02, -3.14436527e-03,  6.02394862e-03,\n",
       "       -3.01429729e-02,  1.01391904e-02, -8.29278638e-05, -3.22997510e-02,\n",
       "        1.56392948e-02,  5.33164685e-02,  4.15565965e-03, -8.68029909e-03,\n",
       "        1.19410799e-03,  1.04099049e-02, -1.04636167e-02, -6.08196852e-03,\n",
       "        3.11134525e-02,  2.92851567e-03, -3.60542890e-03, -1.20784506e-02,\n",
       "       -1.80958401e-03, -5.15306545e-03,  1.40273861e-02, -6.28894662e-03,\n",
       "       -1.70565884e-02, -9.11534248e-02,  1.55491890e-02, -1.48174616e-02,\n",
       "        1.36784621e-03, -5.86410648e-03,  7.13707065e-03,  9.92179212e-03,\n",
       "       -2.98437112e-03, -1.05984120e-03,  9.28440340e-05, -4.72008525e-03,\n",
       "        2.91470845e-02,  5.17158135e-02,  3.13531060e-02,  1.39553027e-02,\n",
       "        6.70552797e-02,  5.49412219e-03,  1.55515916e-02, -1.94471766e-02,\n",
       "       -1.99826776e-02, -1.93802328e-02,  2.07561233e-02,  5.72081819e-03,\n",
       "        4.49666942e-02,  6.80539610e-03, -4.93426554e-02, -1.19568682e-02,\n",
       "        1.70147796e-01,  1.01571286e-02,  2.06706822e-01, -3.12045111e-01,\n",
       "       -1.05872980e-02,  2.27558869e-02, -4.02191092e-02,  1.65123194e-02,\n",
       "       -6.48336573e-04,  8.85564615e-04,  4.16240566e-03,  8.36160634e-03,\n",
       "       -2.38331223e-02, -5.12331750e-03,  2.64887495e-02, -8.76730050e-02,\n",
       "        5.89072002e-02, -3.68416963e-03,  5.44781148e-02, -5.32405595e-02,\n",
       "        5.88582075e-02,  7.71439297e-02,  1.70955556e-02,  2.06081759e-02,\n",
       "        3.95045672e-03,  2.69700336e-02,  1.07580992e-01,  2.68944819e-02,\n",
       "        1.17199063e+00,  1.11259851e+00, -7.94405028e-02, -2.89881815e-02,\n",
       "        1.77502100e-01,  1.49774817e-01,  9.66106356e-02,  7.54243026e-02,\n",
       "        9.17170911e-01,  9.50786436e-01, -1.03132584e-02,  5.16105543e-03,\n",
       "        1.15836004e-03, -9.12529245e-02,  4.98965206e-02, -4.98923828e-03,\n",
       "       -5.56646653e-03, -4.74217418e-03,  1.27965854e-03,  1.13103742e-01,\n",
       "        1.09390189e-01,  6.43413642e-03,  4.29538021e-03,  1.16202278e-02,\n",
       "        8.99426538e-03, -2.46143741e-01,  1.60454906e-01,  1.31417223e-01,\n",
       "       -1.17082896e-01,  2.51825623e-02,  5.49027503e-04, -6.03204668e-02,\n",
       "       -5.59899196e-02,  1.44081314e-02, -4.47789057e-02, -1.15494422e-03,\n",
       "        6.83012177e-02, -1.12041750e-03,  1.59964799e-02, -2.03936149e-02,\n",
       "       -2.14215447e-02,  3.99060459e-02,  9.53304643e-02])"
      ]
     },
     "execution_count": 21,
     "metadata": {},
     "output_type": "execute_result"
    }
   ],
   "source": [
    "best_w"
   ]
  },
  {
   "cell_type": "code",
   "execution_count": 6,
   "metadata": {},
   "outputs": [],
   "source": [
    "# Function to predict the labels for the test data\n",
    "def predict_labels(w, data):\n",
    "    \"\"\"Generates class predictions given weights, and a test data matrix\"\"\"\n",
    "    y_pred = sigmoid(data.dot(w))\n",
    "    y_pred[np.where(y_pred <= 0.5)] = 0\n",
    "    y_pred[np.where(y_pred > 0.5)] = 1\n",
    "    return y_pred"
   ]
  },
  {
   "cell_type": "code",
   "execution_count": 7,
   "metadata": {},
   "outputs": [],
   "source": [
    "# Generate predictions and save ouput in csv format for submission:\n",
    "OUTPUT_PATH = 'data/submission.csv'\n",
    "\n",
    "y_pred = predict_labels(best_w, x_test)\n",
    "# Convert 0 and 1 back to -1 and 1\n",
    "y_pred[y_pred == 0] = -1\n",
    "create_csv_submission(test_ids, y_pred, OUTPUT_PATH)"
   ]
  }
 ],
 "metadata": {
  "kernelspec": {
   "display_name": "cs433",
   "language": "python",
   "name": "python3"
  },
  "language_info": {
   "codemirror_mode": {
    "name": "ipython",
    "version": 3
   },
   "file_extension": ".py",
   "mimetype": "text/x-python",
   "name": "python",
   "nbconvert_exporter": "python",
   "pygments_lexer": "ipython3",
   "version": "3.9.18"
  }
 },
 "nbformat": 4,
 "nbformat_minor": 2
}
