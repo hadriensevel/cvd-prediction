{
 "cells": [
  {
   "cell_type": "code",
   "execution_count": 1,
   "metadata": {},
   "outputs": [],
   "source": [
    "import numpy as np\n",
    "from helpers import *\n",
    "from implementations import *"
   ]
  },
  {
   "cell_type": "code",
   "execution_count": 2,
   "metadata": {},
   "outputs": [],
   "source": [
    "x_train, x_test, y_train, train_ids, test_ids = load_csv_data('data/dataset/')"
   ]
  },
  {
   "cell_type": "code",
   "execution_count": 3,
   "metadata": {},
   "outputs": [],
   "source": [
    "NAN_PERCENTAGE = 0.4\n",
    "\n",
    "# Find columns with more than NAN_PERCENTAGE missing values in x_train\n",
    "nan_cols_train = np.where(np.sum(np.isnan(x_train), axis=0) > NAN_PERCENTAGE * x_train.shape[0])[0]\n",
    "\n",
    "# Remove those columns from both x_train and x_test\n",
    "x_train = np.delete(x_train, nan_cols_train, axis=1)\n",
    "x_test = np.delete(x_test, nan_cols_train, axis=1)\n",
    "\n",
    "# Find the columns where the values are all the same\n",
    "same_cols_train = np.where(np.all(x_train == x_train[0,:], axis=0))[0]\n",
    "\n",
    "# Remove those columns from both x_train and x_test\n",
    "x_train = np.delete(x_train, same_cols_train, axis=1)\n",
    "x_test = np.delete(x_test, same_cols_train, axis=1)\n",
    "\n",
    "# Replace NaN values with column means\n",
    "col_means = np.nanmean(x_train, axis=0)\n",
    "train_nans = np.isnan(x_train)\n",
    "x_train[train_nans] = np.take(col_means, np.where(train_nans)[1])\n",
    "test_nans = np.isnan(x_test)\n",
    "x_test[test_nans] = np.take(col_means, np.where(test_nans)[1])\n",
    "\n",
    "# Get the mean and standard deviation of each column in x_train\n",
    "means = np.mean(x_train, axis=0)\n",
    "stds = np.std(x_train, axis=0)\n",
    "\n",
    "# If a column has a standard deviation of 0, remove it from x_train, x_test and the means and stds arrays\n",
    "zero_std_cols = np.where(stds == 0)[0]\n",
    "x_train = np.delete(x_train, zero_std_cols, axis=1)\n",
    "x_test = np.delete(x_test, zero_std_cols, axis=1)\n",
    "means = np.delete(means, zero_std_cols)\n",
    "stds = np.delete(stds, zero_std_cols)\n",
    "\n",
    "# Standardize x_train and x_test\n",
    "x_train = (x_train - means) / stds\n",
    "x_test = (x_test - means) / stds\n",
    "\n",
    "# Convert y_train to 0 and 1\n",
    "y_train[y_train == -1] = 0"
   ]
  },
  {
   "cell_type": "code",
   "execution_count": 4,
   "metadata": {},
   "outputs": [
    {
     "name": "stdout",
     "output_type": "stream",
     "text": [
      "(328135, 163)\n",
      "(109379, 163)\n"
     ]
    }
   ],
   "source": [
    "print(x_train.shape)\n",
    "print(x_test.shape)"
   ]
  },
  {
   "cell_type": "code",
   "execution_count": 14,
   "metadata": {},
   "outputs": [
    {
     "ename": "NameError",
     "evalue": "name 'max_iters' is not defined",
     "output_type": "error",
     "traceback": [
      "\u001b[0;31m---------------------------------------------------------------------------\u001b[0m",
      "\u001b[0;31mNameError\u001b[0m                                 Traceback (most recent call last)",
      "\u001b[1;32m/Users/hadriensevel/Library/Mobile Documents/com~apple~CloudDocs/EPFL/Master/Machine Learning/ml-project-1-the-overfitters/run.ipynb Cell 5\u001b[0m line \u001b[0;36m2\n\u001b[1;32m     <a href='vscode-notebook-cell:/Users/hadriensevel/Library/Mobile%20Documents/com~apple~CloudDocs/EPFL/Master/Machine%20Learning/ml-project-1-the-overfitters/run.ipynb#W4sZmlsZQ%3D%3D?line=15'>16</a>\u001b[0m \u001b[39mfor\u001b[39;00m lambda_ \u001b[39min\u001b[39;00m lambdas:\n\u001b[1;32m     <a href='vscode-notebook-cell:/Users/hadriensevel/Library/Mobile%20Documents/com~apple~CloudDocs/EPFL/Master/Machine%20Learning/ml-project-1-the-overfitters/run.ipynb#W4sZmlsZQ%3D%3D?line=17'>18</a>\u001b[0m     w \u001b[39m=\u001b[39m initial_w\n\u001b[0;32m---> <a href='vscode-notebook-cell:/Users/hadriensevel/Library/Mobile%20Documents/com~apple~CloudDocs/EPFL/Master/Machine%20Learning/ml-project-1-the-overfitters/run.ipynb#W4sZmlsZQ%3D%3D?line=19'>20</a>\u001b[0m     \u001b[39mfor\u001b[39;00m _ \u001b[39min\u001b[39;00m \u001b[39mrange\u001b[39m(max_iters):\n\u001b[1;32m     <a href='vscode-notebook-cell:/Users/hadriensevel/Library/Mobile%20Documents/com~apple~CloudDocs/EPFL/Master/Machine%20Learning/ml-project-1-the-overfitters/run.ipynb#W4sZmlsZQ%3D%3D?line=20'>21</a>\u001b[0m         \u001b[39m# compute gradient\u001b[39;00m\n\u001b[1;32m     <a href='vscode-notebook-cell:/Users/hadriensevel/Library/Mobile%20Documents/com~apple~CloudDocs/EPFL/Master/Machine%20Learning/ml-project-1-the-overfitters/run.ipynb#W4sZmlsZQ%3D%3D?line=21'>22</a>\u001b[0m         grad \u001b[39m=\u001b[39m compute_gradient_neg_log(y, tx, w) \u001b[39m+\u001b[39m \u001b[39m2\u001b[39m \u001b[39m*\u001b[39m lambda_ \u001b[39m*\u001b[39m w\n\u001b[1;32m     <a href='vscode-notebook-cell:/Users/hadriensevel/Library/Mobile%20Documents/com~apple~CloudDocs/EPFL/Master/Machine%20Learning/ml-project-1-the-overfitters/run.ipynb#W4sZmlsZQ%3D%3D?line=22'>23</a>\u001b[0m         \u001b[39m# update w by gradient\u001b[39;00m\n",
      "\u001b[0;31mNameError\u001b[0m: name 'max_iters' is not defined"
     ]
    }
   ],
   "source": [
    "# Train our model\n",
    "NBR_ITER = 1000\n",
    "\n",
    "# Try different values for gamma and lambda\n",
    "gammas = [0.4]\n",
    "lambdas = [0]\n",
    "\n",
    "best_gamma = None\n",
    "best_lambda = None\n",
    "best_loss = np.inf\n",
    "best_w = np.ones(x_train.shape[1])\n",
    "initial_w = -1e-3 * np.ones(x_train.shape[1])\n",
    "losses = []\n",
    "\n",
    "for gamma in gammas:\n",
    "    for lambda_ in lambdas:\n",
    "\n",
    "        w = initial_w\n",
    "\n",
    "        for _ in range(NBR_ITER):\n",
    "            # compute gradient\n",
    "            grad = compute_gradient_neg_log(y_train, x_train, w) + 2 * lambda_ * w\n",
    "            # update w by gradient\n",
    "            w = w - gamma * grad\n",
    "            # compute loss\n",
    "            loss = compute_loss_neg_log(y_train, x_train, w) + lambda_ * np.linalg.norm(w) ** 2\n",
    "            losses.append(loss)\n",
    "\n",
    "    \n",
    "        if loss < best_loss:\n",
    "            best_loss = loss\n",
    "            best_gamma = gamma\n",
    "            best_lambda = lambda_\n",
    "            best_w = w\n",
    "\n",
    "        print(\"gamma = \", gamma)\n",
    "        print(\"lambda = \", lambda_)\n",
    "        print(\"loss = \", loss)\n",
    "\n",
    "        # Plot the loss\n",
    "        plt.plot(losses)\n",
    "\n",
    "print(\"Best gamma = \", best_gamma)\n",
    "print(\"Best lambda = \", best_lambda)\n",
    "print(\"Best loss = \", best_loss)\n",
    "\n",
    "#GAMMA =  0.3\n",
    "#loss =  0.5887492781783168"
   ]
  },
  {
   "cell_type": "code",
   "execution_count": 6,
   "metadata": {},
   "outputs": [],
   "source": [
    "# Function to predict the labels for the test data\n",
    "def predict_labels(w, data):\n",
    "    \"\"\"Generates class predictions given weights, and a test data matrix\"\"\"\n",
    "    y_pred = sigmoid(data.dot(w))\n",
    "    y_pred[np.where(y_pred <= 0.5)] = 0\n",
    "    y_pred[np.where(y_pred > 0.5)] = 1\n",
    "    return y_pred"
   ]
  },
  {
   "cell_type": "code",
   "execution_count": 7,
   "metadata": {},
   "outputs": [],
   "source": [
    "# Generate predictions and save ouput in csv format for submission:\n",
    "OUTPUT_PATH = 'data/submission.csv'\n",
    "\n",
    "y_pred = predict_labels(best_w, x_test)\n",
    "# Convert 0 and 1 back to -1 and 1\n",
    "y_pred[y_pred == 0] = -1\n",
    "create_csv_submission(test_ids, y_pred, OUTPUT_PATH)"
   ]
  }
 ],
 "metadata": {
  "kernelspec": {
   "display_name": "cs433",
   "language": "python",
   "name": "python3"
  },
  "language_info": {
   "codemirror_mode": {
    "name": "ipython",
    "version": 3
   },
   "file_extension": ".py",
   "mimetype": "text/x-python",
   "name": "python",
   "nbconvert_exporter": "python",
   "pygments_lexer": "ipython3",
   "version": "3.9.18"
  }
 },
 "nbformat": 4,
 "nbformat_minor": 2
}
